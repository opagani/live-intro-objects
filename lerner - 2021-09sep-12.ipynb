{
 "cells": [
  {
   "cell_type": "markdown",
   "metadata": {},
   "source": [
    "# Agenda\n",
    "\n",
    "1. What are objects?\n",
    "2. Classes\n",
    "    - Creating them\n",
    "    - What happens when we create a new object in Python?\n",
    "3. Instances\n",
    "    - What are they?\n",
    "    - State in an instance\n",
    "4. Methods\n",
    "    - What are they?\n",
    "    - Writing methods\n",
    "    - Using `self`\n",
    "5. Attributes\n",
    "    - Instance attributes\n",
    "    - Class attributes\n",
    "    - When do you use each one?\n",
    "    - ICPO rule (instance-class-parent-object) for attribute lookup\n",
    "6. Inheritance\n",
    "    - What is it?\n",
    "    - How can we use it?\n",
    "    - How is it affected by the ICPO rule?\n",
    "7. Magic methods\n",
    "    - What are they?\n",
    "    - `__str__` and `__repr__`"
   ]
  },
  {
   "cell_type": "markdown",
   "metadata": {},
   "source": [
    "Today's notebook is mirrored at:\n",
    "\n",
    "https://github.com/reuven/live-intro-objects"
   ]
  },
  {
   "cell_type": "markdown",
   "metadata": {},
   "source": [
    "# What are objects?\n",
    "\n",
    "- Xerox, in the 1970s, wanted to be a computer powerhouse\n",
    "- They established Xerox PARC (Palo Alto Research Center)\n",
    "- Alan Kay worked there -- he saw *software* as a big problem\n",
    "- We can have a complex system like a biological system\n",
    "    - cells are individual building blocks\n",
    "    - each cell has a type to which it belongs\n",
    "    - that type describes the sort of message that it can receive, and also send\n",
    "- Alan Kay created a new type of programming language, known as Smalltalk -- the first \"object oriented\" language\n",
    "\n",
    "### Why should we care?\n",
    "\n",
    "- Using objects means that we can organize our code more easily\n",
    "- We can think in terms of small pieces that communicate with other small pieces\n",
    "- We can think in terms of \"types\" of objects, and thus reason about how they work\n",
    "- When we learn about a new type of object, we're learning about what messages it sends and receives... and not the syntax we use for working with it."
   ]
  },
  {
   "cell_type": "markdown",
   "metadata": {},
   "source": [
    "# Everything is an object\n",
    "\n",
    "### Who cares?\n",
    "- It means the language is very consistent -- consistent syntax, consistent semantics\n",
    "- Lowers the learning curve, both for the language as a whole and for new things we'll discover in the language\n",
    "\n",
    "### What does this mean?\n",
    "- Everything in the language works the same way\n",
    "- This includes things that we write, and also things that come with the language"
   ]
  },
  {
   "cell_type": "markdown",
   "metadata": {},
   "source": [
    "# Everything is an object means:\n",
    "\n",
    "- Everything has an id\n",
    "- Everything has a type\n",
    "- Everything has attributes"
   ]
  },
  {
   "cell_type": "code",
   "execution_count": 1,
   "metadata": {},
   "outputs": [
    {
     "data": {
      "text/plain": [
       "4562081872"
      ]
     },
     "execution_count": 1,
     "metadata": {},
     "output_type": "execute_result"
    }
   ],
   "source": [
    "# Every object in Python has a unique ID number\n",
    "# we can get that with the \"id\" builtin function\n",
    "\n",
    "id(12345)"
   ]
  },
  {
   "cell_type": "code",
   "execution_count": 2,
   "metadata": {},
   "outputs": [
    {
     "data": {
      "text/plain": [
       "4562660912"
      ]
     },
     "execution_count": 2,
     "metadata": {},
     "output_type": "execute_result"
    }
   ],
   "source": [
    "id('abcde')"
   ]
  },
  {
   "cell_type": "code",
   "execution_count": 3,
   "metadata": {},
   "outputs": [
    {
     "data": {
      "text/plain": [
       "4562418816"
      ]
     },
     "execution_count": 3,
     "metadata": {},
     "output_type": "execute_result"
    }
   ],
   "source": [
    "id([10, 20, 30])"
   ]
  },
  {
   "cell_type": "code",
   "execution_count": 4,
   "metadata": {},
   "outputs": [
    {
     "data": {
      "text/plain": [
       "4562416512"
      ]
     },
     "execution_count": 4,
     "metadata": {},
     "output_type": "execute_result"
    }
   ],
   "source": [
    "id([10, 20, 30])"
   ]
  },
  {
   "cell_type": "code",
   "execution_count": 5,
   "metadata": {},
   "outputs": [
    {
     "data": {
      "text/plain": [
       "True"
      ]
     },
     "execution_count": 5,
     "metadata": {},
     "output_type": "execute_result"
    }
   ],
   "source": [
    "x = [10, 20, 30]\n",
    "y = [10, 20, 30]\n",
    "\n",
    "x == y  # yes, they have the same values"
   ]
  },
  {
   "cell_type": "code",
   "execution_count": 6,
   "metadata": {},
   "outputs": [
    {
     "data": {
      "text/plain": [
       "False"
      ]
     },
     "execution_count": 6,
     "metadata": {},
     "output_type": "execute_result"
    }
   ],
   "source": [
    "x is y  # do they have the same ids?"
   ]
  },
  {
   "cell_type": "code",
   "execution_count": 7,
   "metadata": {},
   "outputs": [
    {
     "data": {
      "text/plain": [
       "4562416512"
      ]
     },
     "execution_count": 7,
     "metadata": {},
     "output_type": "execute_result"
    }
   ],
   "source": [
    "# fun fact: The number returned by \"id\" is the decimal version of the \n",
    "# address in memory where the object is stored\n",
    "\n",
    "id(x)"
   ]
  },
  {
   "cell_type": "code",
   "execution_count": 8,
   "metadata": {},
   "outputs": [
    {
     "data": {
      "text/plain": [
       "4562648128"
      ]
     },
     "execution_count": 8,
     "metadata": {},
     "output_type": "execute_result"
    }
   ],
   "source": [
    "id(y)"
   ]
  },
  {
   "cell_type": "code",
   "execution_count": 9,
   "metadata": {},
   "outputs": [
    {
     "data": {
      "text/plain": [
       "str"
      ]
     },
     "execution_count": 9,
     "metadata": {},
     "output_type": "execute_result"
    }
   ],
   "source": [
    "# Every object has a type\n",
    "\n",
    "s = 'abcd'\n",
    "type(s)   # what category of object is s?"
   ]
  },
  {
   "cell_type": "code",
   "execution_count": 10,
   "metadata": {},
   "outputs": [
    {
     "data": {
      "text/plain": [
       "int"
      ]
     },
     "execution_count": 10,
     "metadata": {},
     "output_type": "execute_result"
    }
   ],
   "source": [
    "n = 12345\n",
    "type(n)"
   ]
  },
  {
   "cell_type": "code",
   "execution_count": 11,
   "metadata": {},
   "outputs": [
    {
     "data": {
      "text/plain": [
       "list"
      ]
     },
     "execution_count": 11,
     "metadata": {},
     "output_type": "execute_result"
    }
   ],
   "source": [
    "mylist = [10, 20, 30]\n",
    "type(mylist)"
   ]
  },
  {
   "cell_type": "code",
   "execution_count": 12,
   "metadata": {},
   "outputs": [
    {
     "data": {
      "text/plain": [
       "type"
      ]
     },
     "execution_count": 12,
     "metadata": {},
     "output_type": "execute_result"
    }
   ],
   "source": [
    "# if everything is an object, then s, n, and mylist are all objects.\n",
    "# but so are str, int, and list!\n",
    "\n",
    "# that's right -- classes in Python (i.e., our types) are also objects\n",
    "\n",
    "# if str is an object, then it must have a type, right?\n",
    "type(str)"
   ]
  },
  {
   "cell_type": "code",
   "execution_count": 13,
   "metadata": {},
   "outputs": [
    {
     "data": {
      "text/plain": [
       "type"
      ]
     },
     "execution_count": 13,
     "metadata": {},
     "output_type": "execute_result"
    }
   ],
   "source": [
    "type(int)"
   ]
  },
  {
   "cell_type": "code",
   "execution_count": 14,
   "metadata": {},
   "outputs": [
    {
     "data": {
      "text/plain": [
       "type"
      ]
     },
     "execution_count": 14,
     "metadata": {},
     "output_type": "execute_result"
    }
   ],
   "source": [
    "type(list)"
   ]
  },
  {
   "cell_type": "markdown",
   "metadata": {},
   "source": [
    "# Let's talk about types\n",
    "\n",
    "- Every object in Python has a type\n",
    "- The type determines what the object can do -- its data, its methods, its attributes\n",
    "- A type is also an object, known as a \"factory object\"\n",
    "- We can ask each type: What is your type? \n",
    "- The answer is: All types have `type` as their type.  We can think of this as: `type` is the factory that makes factories."
   ]
  },
  {
   "cell_type": "code",
   "execution_count": 16,
   "metadata": {},
   "outputs": [
    {
     "data": {
      "text/plain": [
       "type"
      ]
     },
     "execution_count": 16,
     "metadata": {},
     "output_type": "execute_result"
    }
   ],
   "source": [
    "# this raises the question: What is the type of type?\n",
    "\n",
    "# the factory that creates factories also created itself\n",
    "type(type)"
   ]
  },
  {
   "cell_type": "markdown",
   "metadata": {},
   "source": [
    "# Attributes\n",
    "\n",
    "The third thing that every object in Python has is *attributes*. \n",
    "\n",
    "(If you know objects from other languages, this is where Python is different! We use attributes in place of instance variables, class variables, and methods.)\n",
    "\n",
    "Variables allow us to store data in a name of some sort, and then use it later on.\n",
    "\n",
    "Attributes are *not* variables. They are distinct from variables, and have their own rules.  Variables can be local (in a function) or global (outside of a function).  Attributes, by contrast, belong to objects.\n",
    "\n",
    "Each object has attributes, meaning that each object has its own private dictionary (names and values).  Attributes always look like this:\n",
    "\n",
    "    DATA.ATTRIBUTE    # notice the . between them!"
   ]
  },
  {
   "cell_type": "code",
   "execution_count": 17,
   "metadata": {},
   "outputs": [
    {
     "data": {
      "text/plain": [
       "'ABCD'"
      ]
     },
     "execution_count": 17,
     "metadata": {},
     "output_type": "execute_result"
    }
   ],
   "source": [
    "#  Some examples of attributes\n",
    "\n",
    "s = 'abcd'\n",
    "s.upper()   # here, we're retrieving the \"upper\" attribute from s.  It's a method object, so we call it"
   ]
  },
  {
   "cell_type": "code",
   "execution_count": 18,
   "metadata": {},
   "outputs": [
    {
     "data": {
      "text/plain": [
       "':'"
      ]
     },
     "execution_count": 18,
     "metadata": {},
     "output_type": "execute_result"
    }
   ],
   "source": [
    "import os    # importing a module, thus creating a module object called \"os\"\n",
    "os.pathsep   # here, I'm requesting the \"pathsep\" attribute belonging to \"os\""
   ]
  },
  {
   "cell_type": "code",
   "execution_count": 19,
   "metadata": {},
   "outputs": [],
   "source": [
    "import os.path"
   ]
  },
  {
   "cell_type": "code",
   "execution_count": 22,
   "metadata": {},
   "outputs": [
    {
     "data": {
      "text/plain": [
       "module"
      ]
     },
     "execution_count": 22,
     "metadata": {},
     "output_type": "execute_result"
    }
   ],
   "source": [
    "type(os.path)   # path is an attribute of os, and it has type \"module\""
   ]
  },
  {
   "cell_type": "markdown",
   "metadata": {},
   "source": [
    "# Can I set and modify attributes on objects?\n",
    "\n",
    "Yes, absolutely, whenever I want to do that.  Python will (almost) never stop me."
   ]
  },
  {
   "cell_type": "code",
   "execution_count": 23,
   "metadata": {},
   "outputs": [],
   "source": [
    "os.classname = 'Intro objects'    # here, I'm adding a new attribute to the \"os\" object"
   ]
  },
  {
   "cell_type": "code",
   "execution_count": 24,
   "metadata": {},
   "outputs": [
    {
     "data": {
      "text/plain": [
       "'Intro objects'"
      ]
     },
     "execution_count": 24,
     "metadata": {},
     "output_type": "execute_result"
    }
   ],
   "source": [
    "os.classname"
   ]
  },
  {
   "cell_type": "code",
   "execution_count": 25,
   "metadata": {},
   "outputs": [],
   "source": [
    "os.classname = 'Intro Python objects, of course'"
   ]
  },
  {
   "cell_type": "code",
   "execution_count": 26,
   "metadata": {},
   "outputs": [
    {
     "data": {
      "text/plain": [
       "'Intro Python objects, of course'"
      ]
     },
     "execution_count": 26,
     "metadata": {},
     "output_type": "execute_result"
    }
   ],
   "source": [
    "os.classname"
   ]
  },
  {
   "cell_type": "code",
   "execution_count": 27,
   "metadata": {},
   "outputs": [],
   "source": [
    "delattr(os, 'classname')"
   ]
  },
  {
   "cell_type": "code",
   "execution_count": 28,
   "metadata": {},
   "outputs": [
    {
     "ename": "AttributeError",
     "evalue": "module 'os' has no attribute 'classname'",
     "output_type": "error",
     "traceback": [
      "\u001b[0;31m---------------------------------------------------------------------------\u001b[0m",
      "\u001b[0;31mAttributeError\u001b[0m                            Traceback (most recent call last)",
      "\u001b[0;32m<ipython-input-28-430b5adfd901>\u001b[0m in \u001b[0;36m<module>\u001b[0;34m\u001b[0m\n\u001b[0;32m----> 1\u001b[0;31m \u001b[0mos\u001b[0m\u001b[0;34m.\u001b[0m\u001b[0mclassname\u001b[0m\u001b[0;34m\u001b[0m\u001b[0;34m\u001b[0m\u001b[0m\n\u001b[0m",
      "\u001b[0;31mAttributeError\u001b[0m: module 'os' has no attribute 'classname'"
     ]
    }
   ],
   "source": [
    "os.classname"
   ]
  },
  {
   "cell_type": "markdown",
   "metadata": {},
   "source": [
    "# Setting and retrieving attributes\n",
    "\n",
    "Anyone, whenever they want, can add a new attribute to an object -- meaning, add a new private name-value pair to the object -- just by assigning to it.\n",
    "\n",
    "Similarly, anyone can retrieve an attribute from an object just by asking for it by name."
   ]
  },
  {
   "cell_type": "markdown",
   "metadata": {},
   "source": [
    "# Listing the attributes on an object\n",
    "\n",
    "Want to find out what attributes an object has?  Use the `dir` function on the object.\n",
    "\n"
   ]
  },
  {
   "cell_type": "code",
   "execution_count": 29,
   "metadata": {},
   "outputs": [
    {
     "data": {
      "text/plain": [
       "['__add__',\n",
       " '__class__',\n",
       " '__contains__',\n",
       " '__delattr__',\n",
       " '__dir__',\n",
       " '__doc__',\n",
       " '__eq__',\n",
       " '__format__',\n",
       " '__ge__',\n",
       " '__getattribute__',\n",
       " '__getitem__',\n",
       " '__getnewargs__',\n",
       " '__gt__',\n",
       " '__hash__',\n",
       " '__init__',\n",
       " '__init_subclass__',\n",
       " '__iter__',\n",
       " '__le__',\n",
       " '__len__',\n",
       " '__lt__',\n",
       " '__mod__',\n",
       " '__mul__',\n",
       " '__ne__',\n",
       " '__new__',\n",
       " '__reduce__',\n",
       " '__reduce_ex__',\n",
       " '__repr__',\n",
       " '__rmod__',\n",
       " '__rmul__',\n",
       " '__setattr__',\n",
       " '__sizeof__',\n",
       " '__str__',\n",
       " '__subclasshook__',\n",
       " 'capitalize',\n",
       " 'casefold',\n",
       " 'center',\n",
       " 'count',\n",
       " 'encode',\n",
       " 'endswith',\n",
       " 'expandtabs',\n",
       " 'find',\n",
       " 'format',\n",
       " 'format_map',\n",
       " 'index',\n",
       " 'isalnum',\n",
       " 'isalpha',\n",
       " 'isascii',\n",
       " 'isdecimal',\n",
       " 'isdigit',\n",
       " 'isidentifier',\n",
       " 'islower',\n",
       " 'isnumeric',\n",
       " 'isprintable',\n",
       " 'isspace',\n",
       " 'istitle',\n",
       " 'isupper',\n",
       " 'join',\n",
       " 'ljust',\n",
       " 'lower',\n",
       " 'lstrip',\n",
       " 'maketrans',\n",
       " 'partition',\n",
       " 'removeprefix',\n",
       " 'removesuffix',\n",
       " 'replace',\n",
       " 'rfind',\n",
       " 'rindex',\n",
       " 'rjust',\n",
       " 'rpartition',\n",
       " 'rsplit',\n",
       " 'rstrip',\n",
       " 'split',\n",
       " 'splitlines',\n",
       " 'startswith',\n",
       " 'strip',\n",
       " 'swapcase',\n",
       " 'title',\n",
       " 'translate',\n",
       " 'upper',\n",
       " 'zfill']"
      ]
     },
     "execution_count": 29,
     "metadata": {},
     "output_type": "execute_result"
    }
   ],
   "source": [
    "# we get back a list of strings, each being an attribute on the object\n",
    "\n",
    "dir(s)  # remember, s is a string"
   ]
  },
  {
   "cell_type": "code",
   "execution_count": 30,
   "metadata": {},
   "outputs": [
    {
     "data": {
      "text/plain": [
       "'Abcd'"
      ]
     },
     "execution_count": 30,
     "metadata": {},
     "output_type": "execute_result"
    }
   ],
   "source": [
    "s.capitalize()  # retrieves the \"capitalize\" attribute, and then executes it"
   ]
  },
  {
   "cell_type": "markdown",
   "metadata": {},
   "source": [
    "# \"dunder\" methods\n",
    "\n",
    "If you see `__NAME__` somewhere in Python, this is pronounced \"dunder NAME\".  \"Dunder\" is short for \"double underscore, before and after.\"\n",
    "\n",
    "Any dunder is typically \n",
    "- a name that Python is looking for in certain circumstances, so don't just go writing dunder methods whenever you want\n",
    "- typically a callback method -- you don't run it yourself, but you let Python execute it on your behalf.\n",
    "\n",
    "So, `__add__` (\"dunder add\") is a method that's invoked when someone uses `+` on two objects."
   ]
  },
  {
   "cell_type": "markdown",
   "metadata": {},
   "source": [
    "# Functions vs. methods\n",
    "\n",
    "A function looks like this:\n",
    "\n",
    "    FUNCTION(DATA)\n",
    "    \n",
    "This is used in \"procedural programming,\" which is more traditional. The good news is that it's easier to understand. The bad news is that you have a lot of functions and a lot of data, and it's up to the programmer(s) to know which goes with which .\n",
    "\n",
    "In object-oriented programming, we talk about *methods*.  They're basically the same, except that they're attached to objects.  So it's rare to have a method call that fails because we tried the wrong type.  Rather, Python will tell us that the method doesn't exist.\n",
    "\n",
    "    DATA.METHOD()   \n",
    "    DATA.METHOD(arg1, arg2)\n",
    "    \n",
    "This is what method calls look like.    "
   ]
  },
  {
   "cell_type": "code",
   "execution_count": 31,
   "metadata": {},
   "outputs": [
    {
     "data": {
      "text/plain": [
       "4"
      ]
     },
     "execution_count": 31,
     "metadata": {},
     "output_type": "execute_result"
    }
   ],
   "source": [
    "s = 'abcd'\n",
    "len(s)   # calling the function \"len\" on s"
   ]
  },
  {
   "cell_type": "code",
   "execution_count": 32,
   "metadata": {},
   "outputs": [
    {
     "data": {
      "text/plain": [
       "'ABCD'"
      ]
     },
     "execution_count": 32,
     "metadata": {},
     "output_type": "execute_result"
    }
   ],
   "source": [
    "s.upper()   # calling the method \"upper\" on s"
   ]
  },
  {
   "cell_type": "code",
   "execution_count": 33,
   "metadata": {},
   "outputs": [
    {
     "data": {
      "text/plain": [
       "['ab', 'd']"
      ]
     },
     "execution_count": 33,
     "metadata": {},
     "output_type": "execute_result"
    }
   ],
   "source": [
    "s.split('c')   # calling the method \"split\" on s, passing an argument of 'c'"
   ]
  },
  {
   "cell_type": "markdown",
   "metadata": {},
   "source": [
    "# Why do we want to create new classes?\n",
    "\n",
    "A big part of object-oriented programming is creating new classes.  Meaning: Creating new data types.\n",
    "\n",
    "Do we need to do this? No!  We can use strings, lists, tuples, dicts, etc. as much as we want. And we can write functions that work with strings, lists, dicts, etc.  There isn't any techincal problem with doing that.\n",
    "\n",
    "BUT if we create our own classes, we get a few advantages:\n",
    "- Our data and our functionality (methods) are in the same place\n",
    "- It's harder to have errors of calling the wrong method on the wrong object\n",
    "- We benefit from **ABSTRACTION**.  We can basically thing at a higher level, of an object of a certain type with certain capabilities, not of lists, tuples, dicts, etc."
   ]
  },
  {
   "cell_type": "markdown",
   "metadata": {},
   "source": [
    "# It's time to create our own class!\n",
    "\n",
    "We want to create a new type of data, that will exist alongside the existing ones (str, list, tuple, etc).  We want to be able to create new *instances* of this class, meaning new objects that have this class as their `type`. \n",
    "\n"
   ]
  },
  {
   "cell_type": "code",
   "execution_count": 34,
   "metadata": {},
   "outputs": [],
   "source": [
    "# I want to create a new class (aka a new type) representing a company.\n",
    "# I'm going to show you how to do this, and it's going to be in the WRONG WAY.\n",
    "# Then we'll make things much neater and nicer.\n",
    "\n",
    "class Company:        # this tells Python: I want to create a new type, called Company\n",
    "    pass              # this tells Python: I have nothing to say in its definition"
   ]
  },
  {
   "cell_type": "code",
   "execution_count": 35,
   "metadata": {},
   "outputs": [
    {
     "data": {
      "text/plain": [
       "type"
      ]
     },
     "execution_count": 35,
     "metadata": {},
     "output_type": "execute_result"
    }
   ],
   "source": [
    "# have I created a new type of data in Python? Yes!\n",
    "type(Company)"
   ]
  },
  {
   "cell_type": "code",
   "execution_count": 36,
   "metadata": {},
   "outputs": [],
   "source": [
    "# most of the time, in Python, we use snake_case for our names (all lowercase, separated by _)\n",
    "# when defining classes, we use CamelCase, without _ between names"
   ]
  },
  {
   "cell_type": "code",
   "execution_count": 37,
   "metadata": {},
   "outputs": [],
   "source": [
    "# can I create new instances of Company with this class?\n",
    "# answer: YES!"
   ]
  },
  {
   "cell_type": "code",
   "execution_count": 38,
   "metadata": {},
   "outputs": [
    {
     "data": {
      "text/plain": [
       "'5'"
      ]
     },
     "execution_count": 38,
     "metadata": {},
     "output_type": "execute_result"
    }
   ],
   "source": [
    "str(5)  # creating a new string object, based on 5"
   ]
  },
  {
   "cell_type": "code",
   "execution_count": 39,
   "metadata": {},
   "outputs": [
    {
     "data": {
      "text/plain": [
       "1234"
      ]
     },
     "execution_count": 39,
     "metadata": {},
     "output_type": "execute_result"
    }
   ],
   "source": [
    "int('1234')  # creating a new int object, based on '1234'"
   ]
  },
  {
   "cell_type": "code",
   "execution_count": null,
   "metadata": {},
   "outputs": [],
   "source": []
  },
  {
   "cell_type": "code",
   "execution_count": 40,
   "metadata": {},
   "outputs": [],
   "source": [
    "c1 = Company()    # create a new company by calling the class\n",
    "c2 = Company() "
   ]
  },
  {
   "cell_type": "code",
   "execution_count": 41,
   "metadata": {},
   "outputs": [
    {
     "data": {
      "text/plain": [
       "__main__.Company"
      ]
     },
     "execution_count": 41,
     "metadata": {},
     "output_type": "execute_result"
    }
   ],
   "source": [
    "type(c1)"
   ]
  },
  {
   "cell_type": "code",
   "execution_count": 42,
   "metadata": {},
   "outputs": [
    {
     "data": {
      "text/plain": [
       "__main__.Company"
      ]
     },
     "execution_count": 42,
     "metadata": {},
     "output_type": "execute_result"
    }
   ],
   "source": [
    "type(c2)"
   ]
  },
  {
   "cell_type": "code",
   "execution_count": 43,
   "metadata": {},
   "outputs": [
    {
     "data": {
      "text/plain": [
       "{'name': 'XYZ Corp.', 'industry': 'Widgets'}"
      ]
     },
     "execution_count": 43,
     "metadata": {},
     "output_type": "execute_result"
    }
   ],
   "source": [
    "# don't I want my company to have some data associated with it? SURE!\n",
    "# I'll do that with attributes\n",
    "\n",
    "c1.name = 'XYZ Corp.'\n",
    "c1.industry = 'Widgets'\n",
    "\n",
    "# I can see the attributes I've set with the \"vars\" function\n",
    "vars(c1)"
   ]
  },
  {
   "cell_type": "code",
   "execution_count": 44,
   "metadata": {},
   "outputs": [
    {
     "data": {
      "text/plain": [
       "'XYZ Corp.'"
      ]
     },
     "execution_count": 44,
     "metadata": {},
     "output_type": "execute_result"
    }
   ],
   "source": [
    "# how can I retrieve these attributes?\n",
    "\n",
    "c1.name    # just ask for DATA.ATTRIBUTE"
   ]
  },
  {
   "cell_type": "code",
   "execution_count": 45,
   "metadata": {},
   "outputs": [
    {
     "data": {
      "text/plain": [
       "'Widgets'"
      ]
     },
     "execution_count": 45,
     "metadata": {},
     "output_type": "execute_result"
    }
   ],
   "source": [
    "c1.industry  "
   ]
  },
  {
   "cell_type": "code",
   "execution_count": 46,
   "metadata": {},
   "outputs": [
    {
     "data": {
      "text/plain": [
       "{}"
      ]
     },
     "execution_count": 46,
     "metadata": {},
     "output_type": "execute_result"
    }
   ],
   "source": [
    "# what about c2?  \n",
    "vars(c2)"
   ]
  },
  {
   "cell_type": "code",
   "execution_count": 47,
   "metadata": {},
   "outputs": [],
   "source": [
    "# can I add new, different attributes to c2?  YES I CAN\n",
    "c2.employee_count = 100\n",
    "c2.country = 'USA'"
   ]
  },
  {
   "cell_type": "code",
   "execution_count": 48,
   "metadata": {},
   "outputs": [
    {
     "data": {
      "text/plain": [
       "{'employee_count': 100, 'country': 'USA'}"
      ]
     },
     "execution_count": 48,
     "metadata": {},
     "output_type": "execute_result"
    }
   ],
   "source": [
    "vars(c2)"
   ]
  },
  {
   "cell_type": "code",
   "execution_count": 49,
   "metadata": {},
   "outputs": [
    {
     "data": {
      "text/plain": [
       "{'name': 'XYZ Corp.', 'industry': 'Widgets'}"
      ]
     },
     "execution_count": 49,
     "metadata": {},
     "output_type": "execute_result"
    }
   ],
   "source": [
    "vars(c1)"
   ]
  },
  {
   "cell_type": "markdown",
   "metadata": {},
   "source": [
    "# Now we're in a mess!\n",
    "\n",
    "The whole point of object-oriented programming is that all objects of a certain type will have the same type and also the same attributes!\n",
    "\n",
    "What I've just done is legal, but *terrible*.\n",
    "\n",
    "What we would like is to ensure that when we create a new object of type `Company`, it'll automatically have the attributes set that we want for all companies. This way, we'll have things standardized."
   ]
  },
  {
   "cell_type": "markdown",
   "metadata": {},
   "source": [
    "# Break until :06\n",
    "\n",
    "# Next up\n",
    "\n",
    "- Creating new objects the right way\n",
    "- `__init__`\n",
    "- `__new__` (the secret method)"
   ]
  },
  {
   "cell_type": "code",
   "execution_count": 50,
   "metadata": {},
   "outputs": [],
   "source": [
    "# What we want is:\n",
    "# - define a class\n",
    "# - ensure that certain attributes are defined whenever we create a new instance\n",
    "\n",
    "class Company:\n",
    "    def __init__(self):\n",
    "        self.name = 'XYZ Corp.'\n",
    "        self.industry = 'Widgets'\n",
    "        \n",
    "c1 = Company()\n",
    "c2 = Company()"
   ]
  },
  {
   "cell_type": "code",
   "execution_count": 51,
   "metadata": {},
   "outputs": [
    {
     "data": {
      "text/plain": [
       "{'name': 'XYZ Corp.', 'industry': 'Widgets'}"
      ]
     },
     "execution_count": 51,
     "metadata": {},
     "output_type": "execute_result"
    }
   ],
   "source": [
    "vars(c1)"
   ]
  },
  {
   "cell_type": "code",
   "execution_count": 52,
   "metadata": {},
   "outputs": [
    {
     "data": {
      "text/plain": [
       "{'name': 'XYZ Corp.', 'industry': 'Widgets'}"
      ]
     },
     "execution_count": 52,
     "metadata": {},
     "output_type": "execute_result"
    }
   ],
   "source": [
    "vars(c2)"
   ]
  },
  {
   "cell_type": "code",
   "execution_count": 53,
   "metadata": {},
   "outputs": [
    {
     "data": {
      "text/plain": [
       "'XYZ Corp.'"
      ]
     },
     "execution_count": 53,
     "metadata": {},
     "output_type": "execute_result"
    }
   ],
   "source": [
    "c1.name"
   ]
  },
  {
   "cell_type": "code",
   "execution_count": 54,
   "metadata": {},
   "outputs": [
    {
     "data": {
      "text/plain": [
       "'XYZ Corp.'"
      ]
     },
     "execution_count": 54,
     "metadata": {},
     "output_type": "execute_result"
    }
   ],
   "source": [
    "c2.name"
   ]
  },
  {
   "cell_type": "code",
   "execution_count": 55,
   "metadata": {},
   "outputs": [],
   "source": [
    "c1.name = 'A new name'"
   ]
  },
  {
   "cell_type": "code",
   "execution_count": 56,
   "metadata": {},
   "outputs": [
    {
     "data": {
      "text/plain": [
       "{'name': 'A new name', 'industry': 'Widgets'}"
      ]
     },
     "execution_count": 56,
     "metadata": {},
     "output_type": "execute_result"
    }
   ],
   "source": [
    "vars(c1)"
   ]
  },
  {
   "cell_type": "code",
   "execution_count": 57,
   "metadata": {},
   "outputs": [
    {
     "data": {
      "text/plain": [
       "{'name': 'XYZ Corp.', 'industry': 'Widgets'}"
      ]
     },
     "execution_count": 57,
     "metadata": {},
     "output_type": "execute_result"
    }
   ],
   "source": [
    "vars(c2)"
   ]
  },
  {
   "cell_type": "code",
   "execution_count": 59,
   "metadata": {},
   "outputs": [
    {
     "name": "stdout",
     "output_type": "stream",
     "text": [
      "<class '__main__.Company'>\n"
     ]
    }
   ],
   "source": [
    "class Company:\n",
    "    def __init__(self):\n",
    "        self.name = 'XYZ Corp.'\n",
    "        self.industry = 'Widgets'\n",
    "        \n",
    "c1 = Company()         "
   ]
  },
  {
   "cell_type": "markdown",
   "metadata": {},
   "source": [
    "# What happens when we create a new object?\n",
    "\n",
    "- We invoke the class with `()`\n",
    "- Many *MANY* people believe that we can invoke the constructor method -- that is, the method that creates a new object, called `__init__`.\n",
    "- This is *FALSE*. Instead, the constructor method that is called is `__new__`.\n",
    "- You almost NEVER want to define `__new__`.  You should let Python do this for you!\n",
    "\n",
    "- `__new__` does the following:\n",
    "    - it creates a new object of the right type (`Company`), and assigns it to a local variable, which I'll call `o`.\n",
    "    - `__new__` calls `__init__`, passing it `o`, our new object\n",
    "    - `__init__` gets that object as `self`, its first parameter\n",
    "    - The job of `__init__` is to add new attributes to our new object.\n",
    "    - That's why `__init__` never returns anything -- and if it does, that value is ignored.\n",
    "    - After `__init__` returns our new, updated/modified object with new attributes, `__new__` returns it to the caller."
   ]
  },
  {
   "cell_type": "markdown",
   "metadata": {},
   "source": [
    "# What's with `self`?\n",
    "\n",
    "We always, in our methods, need a way to refer to \"the current object,\" or \"the object on which we invoked our method.\"\n",
    "\n",
    "In many (inferior) languages, the word `this` does that, and its kind of magical. The language can always find `this` and know what the current object is.  This can get confusing, though; many languages aren't always clear about `this` and how to get it.  \n",
    "\n",
    "In Python, we use the term `self`, taken directly from Smalltalk. In contrast with languages that use `this`, and even such languages as Smalltalk and Ruby, `self` in Python is a local variable. It's a regular ol' local variable, which is populated automatically by Python with the current instance.\n",
    "\n",
    "This means:\n",
    "- No matter what, the first parameter in every method *must* be `self`.\n",
    "- You can, in theory, call it anything you want, but people will hate you if you don't call it `self`.\n",
    "- `self` is a local variable, just like every other local variable\n",
    "- Outside of methods, `self` doesn't exist."
   ]
  },
  {
   "cell_type": "markdown",
   "metadata": {},
   "source": [
    "# How can we make our objects a bit more interesting?\n",
    "\n",
    "Right now, every company has the same name and industry. Bad!  How can we allow our companies to have different names, and different industries?\n",
    "\n",
    "Answer: Parameters!"
   ]
  },
  {
   "cell_type": "code",
   "execution_count": 61,
   "metadata": {},
   "outputs": [],
   "source": [
    "class Company:\n",
    "    def __init__(self, name, industry):\n",
    "        self.name = name\n",
    "        self.industry = industry\n",
    "        \n",
    "c1 = Company('XYZ Corp.', 'Widgets')         \n",
    "c2 = Company('ABC Corp.', 'Alphabets')"
   ]
  },
  {
   "cell_type": "code",
   "execution_count": 62,
   "metadata": {},
   "outputs": [
    {
     "data": {
      "text/plain": [
       "{'name': 'XYZ Corp.', 'industry': 'Widgets'}"
      ]
     },
     "execution_count": 62,
     "metadata": {},
     "output_type": "execute_result"
    }
   ],
   "source": [
    "vars(c1)"
   ]
  },
  {
   "cell_type": "code",
   "execution_count": 63,
   "metadata": {},
   "outputs": [
    {
     "data": {
      "text/plain": [
       "{'name': 'ABC Corp.', 'industry': 'Alphabets'}"
      ]
     },
     "execution_count": 63,
     "metadata": {},
     "output_type": "execute_result"
    }
   ],
   "source": [
    "vars(c2)"
   ]
  },
  {
   "cell_type": "markdown",
   "metadata": {},
   "source": [
    "# Discipline in `__init__`\n",
    "\n",
    "- Can we define attributes outside of `__init__`? Yes. But don't do it.  We want to avoid creating new attributes outside of `__init__`.\n",
    "- Can we define attributes in `__init__`, and give them default values, or `None` values? Yes, this is a great idea! \n",
    "- Can we, in `__init__`, take advantage of flexible function parameters, such as defaults, `*args`, `**kwargs`, and the like? Yes!  The only special part of `__init__` is that, like all methods, it takes `self` as the first parameter.  Also, it's called on our behalf by `__new__`.  We almost never want to call `__init__` ourselves."
   ]
  },
  {
   "cell_type": "markdown",
   "metadata": {},
   "source": [
    "# Exercise: (Ice cream) Scoop\n",
    "\n",
    "1. Define a new class, `Scoop`, for keeping track of ice cream.  Each instance of `Scoop` will have a `flavor` attribute, a string describing its flavor.\n",
    "2. Define three new instances of `Scoop`, each with a different flavor.\n",
    "3. Put these three instances into a list, and iterate over them, so that you can print the flavors.\n",
    "\n",
    "Example:\n",
    "\n",
    "    s1 = Scoop('chocolate')\n",
    "    s2 = Scoop('vanilla')\n",
    "    s3 = Scoop('coffee')\n",
    "    \n"
   ]
  },
  {
   "cell_type": "code",
   "execution_count": 64,
   "metadata": {},
   "outputs": [],
   "source": [
    "# in static languages, we cannot do this:\n",
    "\n",
    "x = 5    \n",
    "x = 'abcd'\n",
    "\n",
    "# that's because you need to declare variables to be of a particular type.  \n",
    "\n",
    "# In Python, that's not an issue, because it's a dynamic language.  That means that\n",
    "# variables don't have types, but values do.  \n",
    "\n",
    "# what about with attributes?  Can we indicate that they must be of a certain type?\n",
    "# No.  For exactly the same reason.\n",
    "\n",
    "# You can use type annotation and Mypy in the same for attributes, though."
   ]
  },
  {
   "cell_type": "code",
   "execution_count": 66,
   "metadata": {},
   "outputs": [
    {
     "name": "stdout",
     "output_type": "stream",
     "text": [
      "chocolate\n",
      "vanilla\n",
      "coffee\n"
     ]
    }
   ],
   "source": [
    "class Scoop:\n",
    "    def __init__(self, flavor):\n",
    "        self.flavor = flavor\n",
    "        \n",
    "s1 = Scoop('chocolate')        \n",
    "s2 = Scoop('vanilla')\n",
    "s3 = Scoop('coffee')\n",
    "\n",
    "for one_scoop in [s1, s2, s3]:\n",
    "    print(one_scoop.flavor)"
   ]
  },
  {
   "cell_type": "code",
   "execution_count": 68,
   "metadata": {},
   "outputs": [
    {
     "name": "stdout",
     "output_type": "stream",
     "text": [
      "XYZ Corp.\n",
      "Something else\n"
     ]
    }
   ],
   "source": [
    "class Company:\n",
    "    def __init__(self, name, industry):\n",
    "        self.name = name\n",
    "        self.industry = industry\n",
    "        \n",
    "c1 = Company('XYZ Corp.', 'Widgets')         \n",
    "\n",
    "print(c1.name)               # access the \"name\" attribute of c1\n",
    "c1.name = 'Something else'   # set the \"name\" attribute of c1\n",
    "print(c1.name)               # access the \"name\" attribute of c1"
   ]
  },
  {
   "cell_type": "code",
   "execution_count": 70,
   "metadata": {},
   "outputs": [
    {
     "name": "stdout",
     "output_type": "stream",
     "text": [
      "XYZ Corp.\n",
      "Widgets\n",
      "Something else\n",
      "Nuclear widgets\n",
      "14\n"
     ]
    }
   ],
   "source": [
    "# \"getter\" and \"setter\" methods\n",
    "# how can we create these in Python?\n",
    "\n",
    "class Company:\n",
    "    def __init__(self, name, industry):\n",
    "        self.name = name\n",
    "        self.industry = industry\n",
    "        \n",
    "    def get_name(self):    # getter methods (accessor method) for name\n",
    "        return self.name\n",
    "    \n",
    "    def get_industry(self):   # getter method for industry\n",
    "        return self.industry\n",
    "    \n",
    "    def set_name(self, new_name):  # setter method (mutator method) for name\n",
    "        self.name = new_name\n",
    "         \n",
    "    def set_industry(self, new_industry):  # setter method for industry\n",
    "        self.industry = new_industry\n",
    "        \n",
    "    def name_length(self):\n",
    "        return len(self.name)\n",
    "        \n",
    "c1 = Company('XYZ Corp.', 'Widgets')         \n",
    "\n",
    "print(c1.get_name())         \n",
    "print(c1.get_industry())\n",
    "\n",
    "c1.set_name('Something else')\n",
    "c1.set_industry('Nuclear widgets')\n",
    "\n",
    "print(c1.get_name())         \n",
    "print(c1.get_industry())\n",
    "\n",
    "print(c1.name_length())"
   ]
  },
  {
   "cell_type": "markdown",
   "metadata": {},
   "source": [
    "# Why not getters and setters?\n",
    "\n",
    "In other languages, you sometimes must use getters and setters. Sometimes, you don't have to, but you're strongly encouraged to.  And in yet other cases, you only have to use getters and setters when the data is private or protected.\n",
    "\n",
    "Well...\n",
    "\n",
    "- There is no protection on attributes in Python.  Everything is open!  So if everything is open, we might as well directly access attributes, for both setting and getting.\n",
    "- Directly accessing them makes the code shorter and clearer. So that's what we normally do.\n",
    "\n",
    "But:\n",
    "\n",
    "- Does this mean that we can sometimes end up with people setting values that are completely wrong? Bad values, or even bad types? Yes!\n",
    "- Does it mean that we lose some of the abstraction that we would want to gain from using objects? Yes, it does!\n",
    "\n",
    "Two solutions to these problems:\n",
    "\n",
    "- Use type annotations and Mypy to cut down on the problems\n",
    "- Another possibility: Properties (which I'll discuss next week, in the advanced course)"
   ]
  },
  {
   "cell_type": "markdown",
   "metadata": {},
   "source": [
    "# Method calls are rewritten!\n",
    "\n",
    "There's no difference in Python between writing\n",
    "\n",
    "    s = 'abcd'\n",
    "    s.upper()\n",
    "    \n",
    "and writing\n",
    "\n",
    "    s = 'abcd'\n",
    "    str.upper(s)\n",
    "    \n",
    "Notice the difference?  In the first, we're calling the method on the instance.  In the second, we're calling the method on the class, and passing the instance as the first argument.\n",
    "\n",
    "Python automatically rewrites the first to be the second.  That's how `self` is populated in every method call!"
   ]
  },
  {
   "cell_type": "markdown",
   "metadata": {},
   "source": [
    "# Exercise: Bowls\n",
    "\n",
    "1. In this exercise, we're going to create a new class, `Bowl`, into which we will be able to put one or more `Scoop` objects.\n",
    "2. Define the `Bowl` class.  It takes no arguments when we create it.  But it does create an attribute called `scoops`, which is an empty list.\n",
    "3. Add a new method to `Bowl`, `add_scoops`. This method takes any number of `Scoop` objects and adds them to the `scoops` list attribute.\n",
    "4. Add another new method to `Bowl`, `flavors`.  This method returns a list of strings, the flavors from the scoops we've added to the bowl.\n",
    "\n",
    "Example:\n",
    "\n",
    "    b = Bowl()              # create a new bowl\n",
    "    b.add_scoops(s1, s2)    # add two scoops\n",
    "    b.add_scoops(s3)        # add one scoop\n",
    "    print(len(b.scoops))    # will return 3\n",
    "    print(b.flavors())      # will print ['chocolate', 'vanilla', 'coffee']"
   ]
  },
  {
   "cell_type": "code",
   "execution_count": 73,
   "metadata": {},
   "outputs": [
    {
     "name": "stdout",
     "output_type": "stream",
     "text": [
      "3\n",
      "['chocolate', 'vanilla', 'coffee']\n"
     ]
    }
   ],
   "source": [
    "class Scoop:\n",
    "    def __init__(self, flavor):\n",
    "        self.flavor = flavor\n",
    "        \n",
    "s1 = Scoop('chocolate')        \n",
    "s2 = Scoop('vanilla')\n",
    "s3 = Scoop('coffee')\n",
    "\n",
    "\n",
    "class Bowl:\n",
    "    def __init__(self):\n",
    "        self.scoops = []  \n",
    "    \n",
    "    def add_scoops(self, *args):\n",
    "        for one_scoop in args:\n",
    "            self.scoops.append(one_scoop)\n",
    "            \n",
    "    def flavors(self):\n",
    "        output = []\n",
    "        for one_scoop in self.scoops:\n",
    "            output.append(one_scoop.flavor)\n",
    "        return output\n",
    "            \n",
    "b = Bowl()\n",
    "b.add_scoops(s1, s2)\n",
    "b.add_scoops(s3)\n",
    "print(len(b.scoops))\n",
    "print(b.flavors())"
   ]
  },
  {
   "cell_type": "code",
   "execution_count": null,
   "metadata": {},
   "outputs": [],
   "source": [
    "class Scoop:\n",
    "    def __init__(self, flavor):\n",
    "        self.flavor = flavor\n",
    "        \n",
    "s1 = Scoop('chocolate')        \n",
    "s2 = Scoop('vanilla')\n",
    "s3 = Scoop('coffee')\n",
    "\n",
    "\n",
    "class Bowl:\n",
    "    def __init__(self):\n",
    "        self.scoops = []  \n",
    "    \n",
    "    def add_scoops(self, *args):\n",
    "        for one_scoop in args:\n",
    "            self.scoops.append(one_scoop)\n",
    "            \n",
    "    def flavors(self):\n",
    "        return [one_scoop.flavor\n",
    "               for one_scoop in self.scoops]\n",
    "            \n",
    "b = Bowl()\n",
    "b.add_scoops(s1, s2)\n",
    "b.add_scoops(s3)\n",
    "print(len(b.scoops))\n",
    "print(b.flavors())"
   ]
  },
  {
   "cell_type": "markdown",
   "metadata": {},
   "source": [
    "# Next up:\n",
    "\n",
    "- Class attributes \n",
    "    - what are they? \n",
    "    - Who needs them? \n",
    "    - How do they work?"
   ]
  },
  {
   "cell_type": "code",
   "execution_count": 74,
   "metadata": {},
   "outputs": [],
   "source": [
    "# Break until :13"
   ]
  },
  {
   "cell_type": "code",
   "execution_count": 75,
   "metadata": {},
   "outputs": [
    {
     "name": "stdout",
     "output_type": "stream",
     "text": [
      "Hello, name1!\n",
      "Hello, name2!\n"
     ]
    }
   ],
   "source": [
    "# Let's say that my company needs me to create a Person class.\n",
    "# Each instance of Person has a name, and there's a \"greet\" method that returns a string\n",
    "# with their name\n",
    "\n",
    "class Person:\n",
    "    def __init__(self, name):\n",
    "        self.name = name\n",
    "        \n",
    "    def greet(self):\n",
    "        return f'Hello, {self.name}!'\n",
    "    \n",
    "p1 = Person('name1')    \n",
    "p2 = Person('name2')\n",
    "\n",
    "print(p1.greet())\n",
    "print(p2.greet())"
   ]
  },
  {
   "cell_type": "code",
   "execution_count": null,
   "metadata": {},
   "outputs": [],
   "source": [
    "# Clients want to know: How many people exist in our virtual universe?\n",
    "# Meaning: Every time we create a new instance of Person, we should keep track of it in a counter\n",
    "\n",
    "population = 0\n",
    "\n",
    "class Person:\n",
    "    def __init__(self, name):\n",
    "        self.name = name\n",
    "        population += 1\n",
    "        \n",
    "    def greet(self):\n",
    "        return f'Hello, {self.name}!'\n",
    "    \n",
    "print(f'pouplation = {po}')\n",
    "p1 = Person('name1')    \n",
    "p2 = Person('name2')\n",
    "\n",
    "print(p1.greet())\n",
    "print(p2.greet())"
   ]
  }
 ],
 "metadata": {
  "kernelspec": {
   "display_name": "Python 3",
   "language": "python",
   "name": "python3"
  },
  "language_info": {
   "codemirror_mode": {
    "name": "ipython",
    "version": 3
   },
   "file_extension": ".py",
   "mimetype": "text/x-python",
   "name": "python",
   "nbconvert_exporter": "python",
   "pygments_lexer": "ipython3",
   "version": "3.9.7"
  }
 },
 "nbformat": 4,
 "nbformat_minor": 4
}
