{
 "cells": [
  {
   "cell_type": "markdown",
   "metadata": {},
   "source": [
    "# Agenda\n",
    "\n",
    "1. What are objects?\n",
    "2. Classes\n",
    "    - Creating them\n",
    "    - What happens when we create a new object in Python?\n",
    "3. Instances\n",
    "    - What are they?\n",
    "    - State in an instance\n",
    "4. Methods\n",
    "    - What are they?\n",
    "    - Writing methods\n",
    "    - Using `self`\n",
    "5. Attributes\n",
    "    - Instance attributes\n",
    "    - Class attributes\n",
    "    - When do you use each one?\n",
    "    - ICPO rule (instance-class-parent-object) for attribute lookup\n",
    "6. Inheritance\n",
    "    - What is it?\n",
    "    - How can we use it?\n",
    "    - How is it affected by the ICPO rule?\n",
    "7. Magic methods\n",
    "    - What are they?\n",
    "    - `__str__` and `__repr__`"
   ]
  },
  {
   "cell_type": "markdown",
   "metadata": {},
   "source": [
    "Today's notebook is mirrored at:\n",
    "\n",
    "https://github.com/reuven/live-intro-objects"
   ]
  },
  {
   "cell_type": "markdown",
   "metadata": {},
   "source": [
    "# What are objects?\n",
    "\n",
    "- Xerox, in the 1970s, wanted to be a computer powerhouse\n",
    "- They established Xerox PARC (Palo Alto Research Center)\n",
    "- Alan Kay worked there -- he saw *software* as a big problem\n",
    "- We can have a complex system like a biological system\n",
    "    - cells are individual building blocks\n",
    "    - each cell has a type to which it belongs\n",
    "    - that type describes the sort of message that it can receive, and also send\n",
    "- Alan Kay created a new type of programming language, known as Smalltalk -- the first \"object oriented\" language\n",
    "\n",
    "### Why should we care?\n",
    "\n",
    "- Using objects means that we can organize our code more easily\n",
    "- We can think in terms of small pieces that communicate with other small pieces\n",
    "- We can think in terms of \"types\" of objects, and thus reason about how they work\n",
    "- When we learn about a new type of object, we're learning about what messages it sends and receives... and not the syntax we use for working with it."
   ]
  },
  {
   "cell_type": "markdown",
   "metadata": {},
   "source": [
    "# Everything is an object\n",
    "\n",
    "### Who cares?\n",
    "- It means the language is very consistent -- consistent syntax, consistent semantics\n",
    "- Lowers the learning curve, both for the language as a whole and for new things we'll discover in the language\n",
    "\n",
    "### What does this mean?\n",
    "- Everything in the language works the same way\n",
    "- This includes things that we write, and also things that come with the language"
   ]
  },
  {
   "cell_type": "markdown",
   "metadata": {},
   "source": [
    "# Everything is an object means:\n",
    "\n",
    "- Everything has an id\n",
    "- Everything has a type\n",
    "- Everything has attributes"
   ]
  },
  {
   "cell_type": "code",
   "execution_count": 1,
   "metadata": {},
   "outputs": [
    {
     "data": {
      "text/plain": [
       "4562081872"
      ]
     },
     "execution_count": 1,
     "metadata": {},
     "output_type": "execute_result"
    }
   ],
   "source": [
    "# Every object in Python has a unique ID number\n",
    "# we can get that with the \"id\" builtin function\n",
    "\n",
    "id(12345)"
   ]
  },
  {
   "cell_type": "code",
   "execution_count": 2,
   "metadata": {},
   "outputs": [
    {
     "data": {
      "text/plain": [
       "4562660912"
      ]
     },
     "execution_count": 2,
     "metadata": {},
     "output_type": "execute_result"
    }
   ],
   "source": [
    "id('abcde')"
   ]
  },
  {
   "cell_type": "code",
   "execution_count": 3,
   "metadata": {},
   "outputs": [
    {
     "data": {
      "text/plain": [
       "4562418816"
      ]
     },
     "execution_count": 3,
     "metadata": {},
     "output_type": "execute_result"
    }
   ],
   "source": [
    "id([10, 20, 30])"
   ]
  },
  {
   "cell_type": "code",
   "execution_count": 4,
   "metadata": {},
   "outputs": [
    {
     "data": {
      "text/plain": [
       "4562416512"
      ]
     },
     "execution_count": 4,
     "metadata": {},
     "output_type": "execute_result"
    }
   ],
   "source": [
    "id([10, 20, 30])"
   ]
  },
  {
   "cell_type": "code",
   "execution_count": 5,
   "metadata": {},
   "outputs": [
    {
     "data": {
      "text/plain": [
       "True"
      ]
     },
     "execution_count": 5,
     "metadata": {},
     "output_type": "execute_result"
    }
   ],
   "source": [
    "x = [10, 20, 30]\n",
    "y = [10, 20, 30]\n",
    "\n",
    "x == y  # yes, they have the same values"
   ]
  },
  {
   "cell_type": "code",
   "execution_count": 6,
   "metadata": {},
   "outputs": [
    {
     "data": {
      "text/plain": [
       "False"
      ]
     },
     "execution_count": 6,
     "metadata": {},
     "output_type": "execute_result"
    }
   ],
   "source": [
    "x is y  # do they have the same ids?"
   ]
  },
  {
   "cell_type": "code",
   "execution_count": 7,
   "metadata": {},
   "outputs": [
    {
     "data": {
      "text/plain": [
       "4562416512"
      ]
     },
     "execution_count": 7,
     "metadata": {},
     "output_type": "execute_result"
    }
   ],
   "source": [
    "# fun fact: The number returned by \"id\" is the decimal version of the \n",
    "# address in memory where the object is stored\n",
    "\n",
    "id(x)"
   ]
  },
  {
   "cell_type": "code",
   "execution_count": 8,
   "metadata": {},
   "outputs": [
    {
     "data": {
      "text/plain": [
       "4562648128"
      ]
     },
     "execution_count": 8,
     "metadata": {},
     "output_type": "execute_result"
    }
   ],
   "source": [
    "id(y)"
   ]
  },
  {
   "cell_type": "code",
   "execution_count": 9,
   "metadata": {},
   "outputs": [
    {
     "data": {
      "text/plain": [
       "str"
      ]
     },
     "execution_count": 9,
     "metadata": {},
     "output_type": "execute_result"
    }
   ],
   "source": [
    "# Every object has a type\n",
    "\n",
    "s = 'abcd'\n",
    "type(s)   # what category of object is s?"
   ]
  },
  {
   "cell_type": "code",
   "execution_count": 10,
   "metadata": {},
   "outputs": [
    {
     "data": {
      "text/plain": [
       "int"
      ]
     },
     "execution_count": 10,
     "metadata": {},
     "output_type": "execute_result"
    }
   ],
   "source": [
    "n = 12345\n",
    "type(n)"
   ]
  },
  {
   "cell_type": "code",
   "execution_count": 11,
   "metadata": {},
   "outputs": [
    {
     "data": {
      "text/plain": [
       "list"
      ]
     },
     "execution_count": 11,
     "metadata": {},
     "output_type": "execute_result"
    }
   ],
   "source": [
    "mylist = [10, 20, 30]\n",
    "type(mylist)"
   ]
  },
  {
   "cell_type": "code",
   "execution_count": 12,
   "metadata": {},
   "outputs": [
    {
     "data": {
      "text/plain": [
       "type"
      ]
     },
     "execution_count": 12,
     "metadata": {},
     "output_type": "execute_result"
    }
   ],
   "source": [
    "# if everything is an object, then s, n, and mylist are all objects.\n",
    "# but so are str, int, and list!\n",
    "\n",
    "# that's right -- classes in Python (i.e., our types) are also objects\n",
    "\n",
    "# if str is an object, then it must have a type, right?\n",
    "type(str)"
   ]
  },
  {
   "cell_type": "code",
   "execution_count": 13,
   "metadata": {},
   "outputs": [
    {
     "data": {
      "text/plain": [
       "type"
      ]
     },
     "execution_count": 13,
     "metadata": {},
     "output_type": "execute_result"
    }
   ],
   "source": [
    "type(int)"
   ]
  },
  {
   "cell_type": "code",
   "execution_count": 14,
   "metadata": {},
   "outputs": [
    {
     "data": {
      "text/plain": [
       "type"
      ]
     },
     "execution_count": 14,
     "metadata": {},
     "output_type": "execute_result"
    }
   ],
   "source": [
    "type(list)"
   ]
  },
  {
   "cell_type": "markdown",
   "metadata": {},
   "source": [
    "# Let's talk about types\n",
    "\n",
    "- Every object in Python has a type\n",
    "- The type determines what the object can do -- its data, its methods, its attributes\n",
    "- A type is also an object, known as a \"factory object\"\n",
    "- We can ask each type: What is your type? \n",
    "- The answer is: All types have `type` as their type.  We can think of this as: `type` is the factory that makes factories."
   ]
  },
  {
   "cell_type": "code",
   "execution_count": 16,
   "metadata": {},
   "outputs": [
    {
     "data": {
      "text/plain": [
       "type"
      ]
     },
     "execution_count": 16,
     "metadata": {},
     "output_type": "execute_result"
    }
   ],
   "source": [
    "# this raises the question: What is the type of type?\n",
    "\n",
    "# the factory that creates factories also created itself\n",
    "type(type)"
   ]
  },
  {
   "cell_type": "markdown",
   "metadata": {},
   "source": [
    "# Attributes\n",
    "\n",
    "The third thing that every object in Python has is *attributes*. \n",
    "\n",
    "(If you know objects from other languages, this is where Python is different! We use attributes in place of instance variables, class variables, and methods.)\n",
    "\n",
    "Variables allow us to store data in a name of some sort, and then use it later on.\n",
    "\n",
    "Attributes are *not* variables. They are distinct from variables, and have their own rules.  Variables can be local (in a function) or global (outside of a function).  Attributes, by contrast, belo"
   ]
  }
 ],
 "metadata": {
  "kernelspec": {
   "display_name": "Python 3",
   "language": "python",
   "name": "python3"
  },
  "language_info": {
   "codemirror_mode": {
    "name": "ipython",
    "version": 3
   },
   "file_extension": ".py",
   "mimetype": "text/x-python",
   "name": "python",
   "nbconvert_exporter": "python",
   "pygments_lexer": "ipython3",
   "version": "3.9.7"
  }
 },
 "nbformat": 4,
 "nbformat_minor": 4
}
