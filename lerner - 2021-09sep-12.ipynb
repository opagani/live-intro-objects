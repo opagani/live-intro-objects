{
 "cells": [
  {
   "cell_type": "markdown",
   "metadata": {},
   "source": [
    "# Agenda\n",
    "\n",
    "1. What are objects?\n",
    "2. Classes\n",
    "    - Creating them\n",
    "    - What happens when we create a new object in Python?\n",
    "3. Instances\n",
    "    - What are they?\n",
    "    - State in an instance\n",
    "4. Methods\n",
    "    - What are they?\n",
    "    - Writing methods\n",
    "    - Using `self`\n",
    "5. Attributes\n",
    "    - Instance attributes\n",
    "    - Class attributes\n",
    "    - When do you use each one?\n",
    "    - ICPO rule (instance-class-parent-object) for attribute lookup\n",
    "6. Inheritance\n",
    "    - What is it?\n",
    "    - How can we use it?\n",
    "    - How is it affected by the ICPO rule?\n",
    "7. Magic methods\n",
    "    - What are they?\n",
    "    - `__str__` and `__repr__`"
   ]
  },
  {
   "cell_type": "markdown",
   "metadata": {},
   "source": [
    "Today's notebook is mirrored at:\n",
    "\n",
    "https://github.com/reuven/live-intro-objects"
   ]
  },
  {
   "cell_type": "markdown",
   "metadata": {},
   "source": [
    "# What are objects?\n",
    "\n",
    "- Xerox, in the 1970s, wanted to be a computer powerhouse\n",
    "- They established Xerox PARC (Palo Alto Research Center)\n",
    "- Alan Kay worked there -- he saw *software* as a big problem\n",
    "- We can have a complex system like a biological system\n",
    "    - cells are individual building blocks\n",
    "    - each cell has a type to which it belongs\n",
    "    - that type describes the sort of message that it can receive, and also send\n",
    "- Alan Kay created a new type of programming language, known as Smalltalk -- the first \"object oriented\" language\n",
    "\n",
    "### Why should we care?\n",
    "\n",
    "- Using objects means that we can organize our code more easily\n",
    "- We can think in terms of small pieces that communicate with other small pieces\n",
    "- We can think in terms of \"types\" of objects, and thus reason about how they work\n",
    "- When we learn about a new type of object, we're learning about what messages it sends and receives... and not the syntax we use for working with it."
   ]
  },
  {
   "cell_type": "markdown",
   "metadata": {},
   "source": [
    "# Everything is an object\n",
    "\n",
    "### Who cares?\n",
    "- It means the language is very consistent -- consistent syntax, consistent semantics\n",
    "- Lowers the learning curve\n",
    "\n",
    "### What does this mean?"
   ]
  }
 ],
 "metadata": {
  "kernelspec": {
   "display_name": "Python 3",
   "language": "python",
   "name": "python3"
  },
  "language_info": {
   "codemirror_mode": {
    "name": "ipython",
    "version": 3
   },
   "file_extension": ".py",
   "mimetype": "text/x-python",
   "name": "python",
   "nbconvert_exporter": "python",
   "pygments_lexer": "ipython3",
   "version": "3.9.7"
  }
 },
 "nbformat": 4,
 "nbformat_minor": 4
}
