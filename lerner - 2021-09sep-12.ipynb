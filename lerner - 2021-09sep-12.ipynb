{
 "cells": [
  {
   "cell_type": "markdown",
   "metadata": {},
   "source": [
    "# Agenda\n",
    "\n",
    "1. What are objects?\n",
    "2. Classes\n",
    "    - Creating them\n",
    "    - What happens when we create a new object in Python?\n",
    "3. Instances\n",
    "    - What are they?\n",
    "    - State in an instance\n",
    "4. Methods\n",
    "    - What are they?\n",
    "    - Writing methods\n",
    "    - Using `self`\n",
    "5. Attributes\n",
    "    - Instance attributes\n",
    "    - Class attributes\n",
    "    - When do you use each one?\n",
    "    - ICPO rule (instance-class-parent-object) for attribute lookup\n",
    "6. Inheritance\n",
    "    - What is it?\n",
    "    - How can we use it?\n",
    "    - How is it affected by the ICPO rule?\n",
    "7. Magic methods\n",
    "    - What are they?\n",
    "    - `__str__` and `__repr__`"
   ]
  },
  {
   "cell_type": "markdown",
   "metadata": {},
   "source": [
    "Today's notebook is mirrored at:\n",
    "\n",
    "https://github.com/reuven/live-intro-objects"
   ]
  },
  {
   "cell_type": "markdown",
   "metadata": {},
   "source": [
    "# What are objects?\n",
    "\n",
    "- Xerox, in the 1970s, wanted to be a computer powerhouse\n",
    "- They established Xerox PARC (Palo Alto Research Center)\n",
    "- Alan Kay worked there -- he saw *software* as a big problem\n",
    "- We can have a complex system like a biological system\n",
    "    - cells are individual building blocks\n",
    "    - each cell has a type to which it belongs\n",
    "    - that type describes the sort of message that it can receive, and also send\n",
    "- Alan Kay created a new type of programming language, known as Smalltalk -- the first \"object oriented\" language\n",
    "\n",
    "### Why should we care?\n",
    "\n",
    "- Using objects means that we can organize our code more easily\n",
    "- We can think in terms of small pieces that communicate with other small pieces\n",
    "- We can think in terms of \"types\" of objects, and thus reason about how they work\n",
    "- When we learn about a new type of object, we're learning about what messages it sends and receives... and not the syntax we use for working with it."
   ]
  },
  {
   "cell_type": "markdown",
   "metadata": {},
   "source": [
    "# Everything is an object\n",
    "\n",
    "### Who cares?\n",
    "- It means the language is very consistent -- consistent syntax, consistent semantics\n",
    "- Lowers the learning curve, both for the language as a whole and for new things we'll discover in the language\n",
    "\n",
    "### What does this mean?\n",
    "- Everything in the language works the same way\n",
    "- This includes things that we write, and also things that come with the language"
   ]
  },
  {
   "cell_type": "markdown",
   "metadata": {},
   "source": [
    "# Everything is an object means:\n",
    "\n",
    "- Everything has an id\n",
    "- Everything has a type\n",
    "- Everything has attributes"
   ]
  },
  {
   "cell_type": "code",
   "execution_count": 1,
   "metadata": {},
   "outputs": [
    {
     "data": {
      "text/plain": [
       "4562081872"
      ]
     },
     "execution_count": 1,
     "metadata": {},
     "output_type": "execute_result"
    }
   ],
   "source": [
    "# Every object in Python has a unique ID number\n",
    "# we can get that with the \"id\" builtin function\n",
    "\n",
    "id(12345)"
   ]
  },
  {
   "cell_type": "code",
   "execution_count": 2,
   "metadata": {},
   "outputs": [
    {
     "data": {
      "text/plain": [
       "4562660912"
      ]
     },
     "execution_count": 2,
     "metadata": {},
     "output_type": "execute_result"
    }
   ],
   "source": [
    "id('abcde')"
   ]
  },
  {
   "cell_type": "code",
   "execution_count": 3,
   "metadata": {},
   "outputs": [
    {
     "data": {
      "text/plain": [
       "4562418816"
      ]
     },
     "execution_count": 3,
     "metadata": {},
     "output_type": "execute_result"
    }
   ],
   "source": [
    "id([10, 20, 30])"
   ]
  },
  {
   "cell_type": "code",
   "execution_count": 4,
   "metadata": {},
   "outputs": [
    {
     "data": {
      "text/plain": [
       "4562416512"
      ]
     },
     "execution_count": 4,
     "metadata": {},
     "output_type": "execute_result"
    }
   ],
   "source": [
    "id([10, 20, 30])"
   ]
  },
  {
   "cell_type": "code",
   "execution_count": 5,
   "metadata": {},
   "outputs": [
    {
     "data": {
      "text/plain": [
       "True"
      ]
     },
     "execution_count": 5,
     "metadata": {},
     "output_type": "execute_result"
    }
   ],
   "source": [
    "x = [10, 20, 30]\n",
    "y = [10, 20, 30]\n",
    "\n",
    "x == y  # yes, they have the same values"
   ]
  },
  {
   "cell_type": "code",
   "execution_count": 6,
   "metadata": {},
   "outputs": [
    {
     "data": {
      "text/plain": [
       "False"
      ]
     },
     "execution_count": 6,
     "metadata": {},
     "output_type": "execute_result"
    }
   ],
   "source": [
    "x is y  # do they have the same ids?"
   ]
  },
  {
   "cell_type": "code",
   "execution_count": 7,
   "metadata": {},
   "outputs": [
    {
     "data": {
      "text/plain": [
       "4562416512"
      ]
     },
     "execution_count": 7,
     "metadata": {},
     "output_type": "execute_result"
    }
   ],
   "source": [
    "# fun fact: The number returned by \"id\" is the decimal version of the \n",
    "# address in memory where the object is stored\n",
    "\n",
    "id(x)"
   ]
  },
  {
   "cell_type": "code",
   "execution_count": 8,
   "metadata": {},
   "outputs": [
    {
     "data": {
      "text/plain": [
       "4562648128"
      ]
     },
     "execution_count": 8,
     "metadata": {},
     "output_type": "execute_result"
    }
   ],
   "source": [
    "id(y)"
   ]
  },
  {
   "cell_type": "code",
   "execution_count": 9,
   "metadata": {},
   "outputs": [
    {
     "data": {
      "text/plain": [
       "str"
      ]
     },
     "execution_count": 9,
     "metadata": {},
     "output_type": "execute_result"
    }
   ],
   "source": [
    "# Every object has a type\n",
    "\n",
    "s = 'abcd'\n",
    "type(s)   # what category of object is s?"
   ]
  },
  {
   "cell_type": "code",
   "execution_count": 10,
   "metadata": {},
   "outputs": [
    {
     "data": {
      "text/plain": [
       "int"
      ]
     },
     "execution_count": 10,
     "metadata": {},
     "output_type": "execute_result"
    }
   ],
   "source": [
    "n = 12345\n",
    "type(n)"
   ]
  },
  {
   "cell_type": "code",
   "execution_count": 11,
   "metadata": {},
   "outputs": [
    {
     "data": {
      "text/plain": [
       "list"
      ]
     },
     "execution_count": 11,
     "metadata": {},
     "output_type": "execute_result"
    }
   ],
   "source": [
    "mylist = [10, 20, 30]\n",
    "type(mylist)"
   ]
  },
  {
   "cell_type": "code",
   "execution_count": 12,
   "metadata": {},
   "outputs": [
    {
     "data": {
      "text/plain": [
       "type"
      ]
     },
     "execution_count": 12,
     "metadata": {},
     "output_type": "execute_result"
    }
   ],
   "source": [
    "# if everything is an object, then s, n, and mylist are all objects.\n",
    "# but so are str, int, and list!\n",
    "\n",
    "# that's right -- classes in Python (i.e., our types) are also objects\n",
    "\n",
    "# if str is an object, then it must have a type, right?\n",
    "type(str)"
   ]
  },
  {
   "cell_type": "code",
   "execution_count": 13,
   "metadata": {},
   "outputs": [
    {
     "data": {
      "text/plain": [
       "type"
      ]
     },
     "execution_count": 13,
     "metadata": {},
     "output_type": "execute_result"
    }
   ],
   "source": [
    "type(int)"
   ]
  },
  {
   "cell_type": "code",
   "execution_count": 14,
   "metadata": {},
   "outputs": [
    {
     "data": {
      "text/plain": [
       "type"
      ]
     },
     "execution_count": 14,
     "metadata": {},
     "output_type": "execute_result"
    }
   ],
   "source": [
    "type(list)"
   ]
  },
  {
   "cell_type": "markdown",
   "metadata": {},
   "source": [
    "# Let's talk about types\n",
    "\n",
    "- Every object in Python has a type\n",
    "- The type determines what the object can do -- its data, its methods, its attributes\n",
    "- A type is also an object, known as a \"factory object\"\n",
    "- We can ask each type: What is your type? \n",
    "- The answer is: All types have `type` as their type.  We can think of this as: `type` is the factory that makes factories."
   ]
  },
  {
   "cell_type": "code",
   "execution_count": 16,
   "metadata": {},
   "outputs": [
    {
     "data": {
      "text/plain": [
       "type"
      ]
     },
     "execution_count": 16,
     "metadata": {},
     "output_type": "execute_result"
    }
   ],
   "source": [
    "# this raises the question: What is the type of type?\n",
    "\n",
    "# the factory that creates factories also created itself\n",
    "type(type)"
   ]
  },
  {
   "cell_type": "markdown",
   "metadata": {},
   "source": [
    "# Attributes\n",
    "\n",
    "The third thing that every object in Python has is *attributes*. \n",
    "\n",
    "(If you know objects from other languages, this is where Python is different! We use attributes in place of instance variables, class variables, and methods.)\n",
    "\n",
    "Variables allow us to store data in a name of some sort, and then use it later on.\n",
    "\n",
    "Attributes are *not* variables. They are distinct from variables, and have their own rules.  Variables can be local (in a function) or global (outside of a function).  Attributes, by contrast, belong to objects.\n",
    "\n",
    "Each object has attributes, meaning that each object has its own private dictionary (names and values).  Attributes always look like this:\n",
    "\n",
    "    DATA.ATTRIBUTE    # notice the . between them!"
   ]
  },
  {
   "cell_type": "code",
   "execution_count": 17,
   "metadata": {},
   "outputs": [
    {
     "data": {
      "text/plain": [
       "'ABCD'"
      ]
     },
     "execution_count": 17,
     "metadata": {},
     "output_type": "execute_result"
    }
   ],
   "source": [
    "#  Some examples of attributes\n",
    "\n",
    "s = 'abcd'\n",
    "s.upper()   # here, we're retrieving the \"upper\" attribute from s.  It's a method object, so we call it"
   ]
  },
  {
   "cell_type": "code",
   "execution_count": 18,
   "metadata": {},
   "outputs": [
    {
     "data": {
      "text/plain": [
       "':'"
      ]
     },
     "execution_count": 18,
     "metadata": {},
     "output_type": "execute_result"
    }
   ],
   "source": [
    "import os    # importing a module, thus creating a module object called \"os\"\n",
    "os.pathsep   # here, I'm requesting the \"pathsep\" attribute belonging to \"os\""
   ]
  },
  {
   "cell_type": "code",
   "execution_count": 19,
   "metadata": {},
   "outputs": [],
   "source": [
    "import os.path"
   ]
  },
  {
   "cell_type": "code",
   "execution_count": 22,
   "metadata": {},
   "outputs": [
    {
     "data": {
      "text/plain": [
       "module"
      ]
     },
     "execution_count": 22,
     "metadata": {},
     "output_type": "execute_result"
    }
   ],
   "source": [
    "type(os.path)   # path is an attribute of os, and it has type \"module\""
   ]
  },
  {
   "cell_type": "markdown",
   "metadata": {},
   "source": [
    "# Can I set and modify attributes on objects?\n",
    "\n",
    "Yes, absolutely, whenever I want to do that.  Python will (almost) never stop me."
   ]
  },
  {
   "cell_type": "code",
   "execution_count": 23,
   "metadata": {},
   "outputs": [],
   "source": [
    "os.classname = 'Intro objects'    # here, I'm adding a new attribute to the \"os\" object"
   ]
  },
  {
   "cell_type": "code",
   "execution_count": 24,
   "metadata": {},
   "outputs": [
    {
     "data": {
      "text/plain": [
       "'Intro objects'"
      ]
     },
     "execution_count": 24,
     "metadata": {},
     "output_type": "execute_result"
    }
   ],
   "source": [
    "os.classname"
   ]
  },
  {
   "cell_type": "code",
   "execution_count": 25,
   "metadata": {},
   "outputs": [],
   "source": [
    "os.classname = 'Intro Python objects, of course'"
   ]
  },
  {
   "cell_type": "code",
   "execution_count": 26,
   "metadata": {},
   "outputs": [
    {
     "data": {
      "text/plain": [
       "'Intro Python objects, of course'"
      ]
     },
     "execution_count": 26,
     "metadata": {},
     "output_type": "execute_result"
    }
   ],
   "source": [
    "os.classname"
   ]
  },
  {
   "cell_type": "code",
   "execution_count": 27,
   "metadata": {},
   "outputs": [],
   "source": [
    "delattr(os, 'classname')"
   ]
  },
  {
   "cell_type": "code",
   "execution_count": 28,
   "metadata": {},
   "outputs": [
    {
     "ename": "AttributeError",
     "evalue": "module 'os' has no attribute 'classname'",
     "output_type": "error",
     "traceback": [
      "\u001b[0;31m---------------------------------------------------------------------------\u001b[0m",
      "\u001b[0;31mAttributeError\u001b[0m                            Traceback (most recent call last)",
      "\u001b[0;32m<ipython-input-28-430b5adfd901>\u001b[0m in \u001b[0;36m<module>\u001b[0;34m\u001b[0m\n\u001b[0;32m----> 1\u001b[0;31m \u001b[0mos\u001b[0m\u001b[0;34m.\u001b[0m\u001b[0mclassname\u001b[0m\u001b[0;34m\u001b[0m\u001b[0;34m\u001b[0m\u001b[0m\n\u001b[0m",
      "\u001b[0;31mAttributeError\u001b[0m: module 'os' has no attribute 'classname'"
     ]
    }
   ],
   "source": [
    "os.classname"
   ]
  },
  {
   "cell_type": "markdown",
   "metadata": {},
   "source": [
    "# Setting and retrieving attributes\n",
    "\n",
    "Anyone, whenever they want, can add a new attribute to an object -- meaning, add a new private name-value pair to the object -- just by assigning to it.\n",
    "\n",
    "Similarly, anyone can retrieve an attribute from an object just by asking for it by name."
   ]
  },
  {
   "cell_type": "markdown",
   "metadata": {},
   "source": [
    "# Listing the attributes on an object\n",
    "\n",
    "Want to find out what attributes an object has?  Use the `dir` function on the object.\n",
    "\n"
   ]
  },
  {
   "cell_type": "code",
   "execution_count": 29,
   "metadata": {},
   "outputs": [
    {
     "data": {
      "text/plain": [
       "['__add__',\n",
       " '__class__',\n",
       " '__contains__',\n",
       " '__delattr__',\n",
       " '__dir__',\n",
       " '__doc__',\n",
       " '__eq__',\n",
       " '__format__',\n",
       " '__ge__',\n",
       " '__getattribute__',\n",
       " '__getitem__',\n",
       " '__getnewargs__',\n",
       " '__gt__',\n",
       " '__hash__',\n",
       " '__init__',\n",
       " '__init_subclass__',\n",
       " '__iter__',\n",
       " '__le__',\n",
       " '__len__',\n",
       " '__lt__',\n",
       " '__mod__',\n",
       " '__mul__',\n",
       " '__ne__',\n",
       " '__new__',\n",
       " '__reduce__',\n",
       " '__reduce_ex__',\n",
       " '__repr__',\n",
       " '__rmod__',\n",
       " '__rmul__',\n",
       " '__setattr__',\n",
       " '__sizeof__',\n",
       " '__str__',\n",
       " '__subclasshook__',\n",
       " 'capitalize',\n",
       " 'casefold',\n",
       " 'center',\n",
       " 'count',\n",
       " 'encode',\n",
       " 'endswith',\n",
       " 'expandtabs',\n",
       " 'find',\n",
       " 'format',\n",
       " 'format_map',\n",
       " 'index',\n",
       " 'isalnum',\n",
       " 'isalpha',\n",
       " 'isascii',\n",
       " 'isdecimal',\n",
       " 'isdigit',\n",
       " 'isidentifier',\n",
       " 'islower',\n",
       " 'isnumeric',\n",
       " 'isprintable',\n",
       " 'isspace',\n",
       " 'istitle',\n",
       " 'isupper',\n",
       " 'join',\n",
       " 'ljust',\n",
       " 'lower',\n",
       " 'lstrip',\n",
       " 'maketrans',\n",
       " 'partition',\n",
       " 'removeprefix',\n",
       " 'removesuffix',\n",
       " 'replace',\n",
       " 'rfind',\n",
       " 'rindex',\n",
       " 'rjust',\n",
       " 'rpartition',\n",
       " 'rsplit',\n",
       " 'rstrip',\n",
       " 'split',\n",
       " 'splitlines',\n",
       " 'startswith',\n",
       " 'strip',\n",
       " 'swapcase',\n",
       " 'title',\n",
       " 'translate',\n",
       " 'upper',\n",
       " 'zfill']"
      ]
     },
     "execution_count": 29,
     "metadata": {},
     "output_type": "execute_result"
    }
   ],
   "source": [
    "# we get back a list of strings, each being an attribute on the object\n",
    "\n",
    "dir(s)  # remember, s is a string"
   ]
  },
  {
   "cell_type": "code",
   "execution_count": 30,
   "metadata": {},
   "outputs": [
    {
     "data": {
      "text/plain": [
       "'Abcd'"
      ]
     },
     "execution_count": 30,
     "metadata": {},
     "output_type": "execute_result"
    }
   ],
   "source": [
    "s.capitalize()  # retrieves the \"capitalize\" attribute, and then executes it"
   ]
  },
  {
   "cell_type": "markdown",
   "metadata": {},
   "source": [
    "# \"dunder\" methods\n",
    "\n",
    "If you see `__NAME__` somewhere in Python, this is pronounced \"dunder NAME\".  \"Dunder\" is short for \"double underscore, before and after.\"\n",
    "\n",
    "Any dunder is typically \n",
    "- a name that Python is looking for in certain circumstances, so don't just go writing dunder methods whenever you want\n",
    "- typically a callback method -- you don't run it yourself, but you let Python execute it on your behalf.\n",
    "\n",
    "So, `__add__` (\"dunder add\") is a method that's invoked when someone uses `+` on two objects."
   ]
  },
  {
   "cell_type": "markdown",
   "metadata": {},
   "source": [
    "# Functions vs. methods\n",
    "\n",
    "A function looks like this:\n",
    "\n",
    "    FUNCTION(DATA)\n",
    "    \n",
    "This is used in \"procedural programming,\" which is more traditional. The good news is that it's easier to understand. The bad news is that you have a lot of functions and a lot of data, and it's up to the programmer(s) to know which goes with which .\n",
    "\n",
    "In object-oriented programming, we talk about *methods*.  They're basically the same, except that they're attached to objects.  So it's rare to have a method call that fails because we tried the wrong type.  Rather, Python will tell us that the method doesn't exist.\n",
    "\n",
    "    DATA.METHOD()   \n",
    "    DATA.METHOD(arg1, arg2)\n",
    "    \n",
    "This is what method calls look like.    "
   ]
  },
  {
   "cell_type": "code",
   "execution_count": 31,
   "metadata": {},
   "outputs": [
    {
     "data": {
      "text/plain": [
       "4"
      ]
     },
     "execution_count": 31,
     "metadata": {},
     "output_type": "execute_result"
    }
   ],
   "source": [
    "s = 'abcd'\n",
    "len(s)   # calling the function \"len\" on s"
   ]
  },
  {
   "cell_type": "code",
   "execution_count": 32,
   "metadata": {},
   "outputs": [
    {
     "data": {
      "text/plain": [
       "'ABCD'"
      ]
     },
     "execution_count": 32,
     "metadata": {},
     "output_type": "execute_result"
    }
   ],
   "source": [
    "s.upper()   # calling the method \"upper\" on s"
   ]
  },
  {
   "cell_type": "code",
   "execution_count": 33,
   "metadata": {},
   "outputs": [
    {
     "data": {
      "text/plain": [
       "['ab', 'd']"
      ]
     },
     "execution_count": 33,
     "metadata": {},
     "output_type": "execute_result"
    }
   ],
   "source": [
    "s.split('c')   # calling the method \"split\" on s, passing an argument of 'c'"
   ]
  },
  {
   "cell_type": "markdown",
   "metadata": {},
   "source": [
    "# Why do we want to create new classes?\n",
    "\n",
    "A big part of object-oriented programming is creating new classes.  Meaning: Creating new data types.\n",
    "\n",
    "Do we need to do this? No!  We can use strings, lists, tuples, dicts, etc. as much as we want. And we can write functions that work with strings, lists, dicts, etc.  There isn't any techincal problem with doing that.\n",
    "\n",
    "BUT if we create our own classes, we get a few advantages:\n",
    "- Our data and our functionality (methods) are in the same place\n",
    "- It's harder to have errors of calling the wrong method on the wrong object\n",
    "- We benefit from **ABSTRACTION**.  We can basically thing at a higher level, of an object of a certain type with certain capabilities, not of lists, tuples, dicts, etc."
   ]
  },
  {
   "cell_type": "markdown",
   "metadata": {},
   "source": [
    "# It's time to create our own class!\n",
    "\n",
    "We want to create a new type of data, that will exist alongside the existing ones (str, list, tuple, etc).  We want to be able to create new *instances* of this class, meaning new objects that have this class as their `type`. \n",
    "\n"
   ]
  },
  {
   "cell_type": "code",
   "execution_count": 34,
   "metadata": {},
   "outputs": [],
   "source": [
    "# I want to create a new class (aka a new type) representing a company.\n",
    "# I'm going to show you how to do this, and it's going to be in the WRONG WAY.\n",
    "# Then we'll make things much neater and nicer.\n",
    "\n",
    "class Company:        # this tells Python: I want to create a new type, called Company\n",
    "    pass              # this tells Python: I have nothing to say in its definition"
   ]
  },
  {
   "cell_type": "code",
   "execution_count": 35,
   "metadata": {},
   "outputs": [
    {
     "data": {
      "text/plain": [
       "type"
      ]
     },
     "execution_count": 35,
     "metadata": {},
     "output_type": "execute_result"
    }
   ],
   "source": [
    "# have I created a new type of data in Python? Yes!\n",
    "type(Company)"
   ]
  },
  {
   "cell_type": "code",
   "execution_count": 36,
   "metadata": {},
   "outputs": [],
   "source": [
    "# most of the time, in Python, we use snake_case for our names (all lowercase, separated by _)\n",
    "# when defining classes, we use CamelCase, without _ between names"
   ]
  },
  {
   "cell_type": "code",
   "execution_count": 37,
   "metadata": {},
   "outputs": [],
   "source": [
    "# can I create new instances of Company with this class?\n",
    "# answer: YES!"
   ]
  },
  {
   "cell_type": "code",
   "execution_count": 38,
   "metadata": {},
   "outputs": [
    {
     "data": {
      "text/plain": [
       "'5'"
      ]
     },
     "execution_count": 38,
     "metadata": {},
     "output_type": "execute_result"
    }
   ],
   "source": [
    "str(5)  # creating a new string object, based on 5"
   ]
  },
  {
   "cell_type": "code",
   "execution_count": 39,
   "metadata": {},
   "outputs": [
    {
     "data": {
      "text/plain": [
       "1234"
      ]
     },
     "execution_count": 39,
     "metadata": {},
     "output_type": "execute_result"
    }
   ],
   "source": [
    "int('1234')  # creating a new int object, based on '1234'"
   ]
  },
  {
   "cell_type": "code",
   "execution_count": null,
   "metadata": {},
   "outputs": [],
   "source": []
  },
  {
   "cell_type": "code",
   "execution_count": 40,
   "metadata": {},
   "outputs": [],
   "source": [
    "c1 = Company()    # create a new company by calling the class\n",
    "c2 = Company() "
   ]
  },
  {
   "cell_type": "code",
   "execution_count": 41,
   "metadata": {},
   "outputs": [
    {
     "data": {
      "text/plain": [
       "__main__.Company"
      ]
     },
     "execution_count": 41,
     "metadata": {},
     "output_type": "execute_result"
    }
   ],
   "source": [
    "type(c1)"
   ]
  },
  {
   "cell_type": "code",
   "execution_count": 42,
   "metadata": {},
   "outputs": [
    {
     "data": {
      "text/plain": [
       "__main__.Company"
      ]
     },
     "execution_count": 42,
     "metadata": {},
     "output_type": "execute_result"
    }
   ],
   "source": [
    "type(c2)"
   ]
  },
  {
   "cell_type": "code",
   "execution_count": 43,
   "metadata": {},
   "outputs": [
    {
     "data": {
      "text/plain": [
       "{'name': 'XYZ Corp.', 'industry': 'Widgets'}"
      ]
     },
     "execution_count": 43,
     "metadata": {},
     "output_type": "execute_result"
    }
   ],
   "source": [
    "# don't I want my company to have some data associated with it? SURE!\n",
    "# I'll do that with attributes\n",
    "\n",
    "c1.name = 'XYZ Corp.'\n",
    "c1.industry = 'Widgets'\n",
    "\n",
    "# I can see the attributes I've set with the \"vars\" function\n",
    "vars(c1)"
   ]
  },
  {
   "cell_type": "code",
   "execution_count": 44,
   "metadata": {},
   "outputs": [
    {
     "data": {
      "text/plain": [
       "'XYZ Corp.'"
      ]
     },
     "execution_count": 44,
     "metadata": {},
     "output_type": "execute_result"
    }
   ],
   "source": [
    "# how can I retrieve these attributes?\n",
    "\n",
    "c1.name    # just ask for DATA.ATTRIBUTE"
   ]
  },
  {
   "cell_type": "code",
   "execution_count": 45,
   "metadata": {},
   "outputs": [
    {
     "data": {
      "text/plain": [
       "'Widgets'"
      ]
     },
     "execution_count": 45,
     "metadata": {},
     "output_type": "execute_result"
    }
   ],
   "source": [
    "c1.industry  "
   ]
  },
  {
   "cell_type": "code",
   "execution_count": 46,
   "metadata": {},
   "outputs": [
    {
     "data": {
      "text/plain": [
       "{}"
      ]
     },
     "execution_count": 46,
     "metadata": {},
     "output_type": "execute_result"
    }
   ],
   "source": [
    "# what about c2?  \n",
    "vars(c2)"
   ]
  },
  {
   "cell_type": "code",
   "execution_count": 47,
   "metadata": {},
   "outputs": [],
   "source": [
    "# can I add new, different attributes to c2?  YES I CAN\n",
    "c2.employee_count = 100\n",
    "c2.country = 'USA'"
   ]
  },
  {
   "cell_type": "code",
   "execution_count": 48,
   "metadata": {},
   "outputs": [
    {
     "data": {
      "text/plain": [
       "{'employee_count': 100, 'country': 'USA'}"
      ]
     },
     "execution_count": 48,
     "metadata": {},
     "output_type": "execute_result"
    }
   ],
   "source": [
    "vars(c2)"
   ]
  },
  {
   "cell_type": "code",
   "execution_count": 49,
   "metadata": {},
   "outputs": [
    {
     "data": {
      "text/plain": [
       "{'name': 'XYZ Corp.', 'industry': 'Widgets'}"
      ]
     },
     "execution_count": 49,
     "metadata": {},
     "output_type": "execute_result"
    }
   ],
   "source": [
    "vars(c1)"
   ]
  },
  {
   "cell_type": "markdown",
   "metadata": {},
   "source": [
    "# Now we're in a mess!\n",
    "\n",
    "The whole point of object-oriented programming is that all objects of a certain type will have the same type and also the same attributes!\n",
    "\n",
    "What I've just done is legal, but *terrible*.\n",
    "\n",
    "What we would like is to ensure that when we create a new object of type `Company`, it'll automatically have the attributes set that we want for all companies. This way, we'll have things standardized."
   ]
  },
  {
   "cell_type": "markdown",
   "metadata": {},
   "source": [
    "# Break until :06\n",
    "\n",
    "# Next up\n",
    "\n",
    "- Creating new objects the right way\n",
    "- `__init__`\n",
    "- `__new__` (the secret method)"
   ]
  },
  {
   "cell_type": "code",
   "execution_count": 50,
   "metadata": {},
   "outputs": [],
   "source": [
    "# What we want is:\n",
    "# - define a class\n",
    "# - ensure that certain attributes are defined whenever we create a new instance\n",
    "\n",
    "class Company:\n",
    "    def __init__(self):\n",
    "        self.name = 'XYZ Corp.'\n",
    "        self.industry = 'Widgets'\n",
    "        \n",
    "c1 = Company()\n",
    "c2 = Company()"
   ]
  },
  {
   "cell_type": "code",
   "execution_count": 51,
   "metadata": {},
   "outputs": [
    {
     "data": {
      "text/plain": [
       "{'name': 'XYZ Corp.', 'industry': 'Widgets'}"
      ]
     },
     "execution_count": 51,
     "metadata": {},
     "output_type": "execute_result"
    }
   ],
   "source": [
    "vars(c1)"
   ]
  },
  {
   "cell_type": "code",
   "execution_count": 52,
   "metadata": {},
   "outputs": [
    {
     "data": {
      "text/plain": [
       "{'name': 'XYZ Corp.', 'industry': 'Widgets'}"
      ]
     },
     "execution_count": 52,
     "metadata": {},
     "output_type": "execute_result"
    }
   ],
   "source": [
    "vars(c2)"
   ]
  },
  {
   "cell_type": "code",
   "execution_count": 53,
   "metadata": {},
   "outputs": [
    {
     "data": {
      "text/plain": [
       "'XYZ Corp.'"
      ]
     },
     "execution_count": 53,
     "metadata": {},
     "output_type": "execute_result"
    }
   ],
   "source": [
    "c1.name"
   ]
  },
  {
   "cell_type": "code",
   "execution_count": 54,
   "metadata": {},
   "outputs": [
    {
     "data": {
      "text/plain": [
       "'XYZ Corp.'"
      ]
     },
     "execution_count": 54,
     "metadata": {},
     "output_type": "execute_result"
    }
   ],
   "source": [
    "c2.name"
   ]
  },
  {
   "cell_type": "code",
   "execution_count": 55,
   "metadata": {},
   "outputs": [],
   "source": [
    "c1.name = 'A new name'"
   ]
  },
  {
   "cell_type": "code",
   "execution_count": 56,
   "metadata": {},
   "outputs": [
    {
     "data": {
      "text/plain": [
       "{'name': 'A new name', 'industry': 'Widgets'}"
      ]
     },
     "execution_count": 56,
     "metadata": {},
     "output_type": "execute_result"
    }
   ],
   "source": [
    "vars(c1)"
   ]
  },
  {
   "cell_type": "code",
   "execution_count": 57,
   "metadata": {},
   "outputs": [
    {
     "data": {
      "text/plain": [
       "{'name': 'XYZ Corp.', 'industry': 'Widgets'}"
      ]
     },
     "execution_count": 57,
     "metadata": {},
     "output_type": "execute_result"
    }
   ],
   "source": [
    "vars(c2)"
   ]
  },
  {
   "cell_type": "code",
   "execution_count": 58,
   "metadata": {},
   "outputs": [],
   "source": [
    "class Company:\n",
    "    def __init__(self):\n",
    "        self.name = 'XYZ Corp.'\n",
    "        self.industry = 'Widgets'\n",
    "        \n",
    "c1 = Company()         "
   ]
  },
  {
   "cell_type": "markdown",
   "metadata": {},
   "source": [
    "# What happens when we create a new object?\n",
    "\n",
    "- We invoke the class with `()`\n",
    "- Many *MANY* people believe that we can invoke the constructor method -- that is, the method that creates a new object, called `__init__`.\n",
    "- This is *FALSE*. Instead, the constructor method that is called is `__new__`.\n",
    "- You almost NEVER want to define `__new__`.  You should let Python do this for you!\n",
    "\n",
    "- `__new__` does the following:\n",
    "    - it creates a new object of the right type (`Company`), and assigns it to a local variable, which I'll call `o`.\n",
    "    - `__new__` calls `__init__`, passing it `o`, our new obje"
   ]
  }
 ],
 "metadata": {
  "kernelspec": {
   "display_name": "Python 3",
   "language": "python",
   "name": "python3"
  },
  "language_info": {
   "codemirror_mode": {
    "name": "ipython",
    "version": 3
   },
   "file_extension": ".py",
   "mimetype": "text/x-python",
   "name": "python",
   "nbconvert_exporter": "python",
   "pygments_lexer": "ipython3",
   "version": "3.9.7"
  }
 },
 "nbformat": 4,
 "nbformat_minor": 4
}
